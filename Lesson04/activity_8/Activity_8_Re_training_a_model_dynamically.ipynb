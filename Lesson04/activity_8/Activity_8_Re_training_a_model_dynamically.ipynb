{
 "cells": [
  {
   "cell_type": "markdown",
   "metadata": {},
   "source": [
    "#### Magic Commands\n",
    "Magic commands (those that start with `%`) are commands that modify a configuration of Jupyter Notebooks. A number of magic commands are available by default (see list [here](http://ipython.readthedocs.io/en/stable/interactive/magics.html))--and many more can be added with extensions. The magic command added in this section allows `matplotlib` to display our plots directly on the browser instead of having to save them on a local file."
   ]
  },
  {
   "cell_type": "code",
   "execution_count": 1,
   "metadata": {},
   "outputs": [],
   "source": [
    "%matplotlib inline"
   ]
  },
  {
   "cell_type": "markdown",
   "metadata": {},
   "source": [
    "# Activity 8: Re-training a model dynamically\n",
    "In this activity, we re-train our model every time new data is available.\n",
    "\n",
    "First, we start by importing `cryptonic`. Cryptonic is a simple software application developed for this course that implements all the steps up to this section using Python classes and modules. Consider Cryptonic a template on how you could develop similar applications."
   ]
  },
  {
   "cell_type": "code",
   "execution_count": 38,
   "metadata": {},
   "outputs": [],
   "source": [
    "import cryptonic\n",
    "import pandas as pd"
   ]
  },
  {
   "cell_type": "code",
   "execution_count": 40,
   "metadata": {},
   "outputs": [],
   "source": [
    "from tqdm import tqdm_notebook"
   ]
  },
  {
   "cell_type": "code",
   "execution_count": 14,
   "metadata": {},
   "outputs": [],
   "source": [
    "plt.style.use('seaborn-white')"
   ]
  },
  {
   "cell_type": "code",
   "execution_count": 41,
   "metadata": {},
   "outputs": [],
   "source": [
    "from cryptonic import Model\n",
    "from cryptonic import CoinMarketCap\n",
    "import cryptonic.models.normalizations as normalizations"
   ]
  },
  {
   "cell_type": "markdown",
   "metadata": {},
   "source": [
    "### Fecthing Real-time Data\n",
    "Throughout this project we have been using data originally provided by [CoinMarketCap](https://coinmarketcap.com/). We have created an interface for collecting both real-time and historical data as as part of `cryptonic`: the class `CoinMarketCap()`."
   ]
  },
  {
   "cell_type": "code",
   "execution_count": 42,
   "metadata": {},
   "outputs": [
    {
     "name": "stdout",
     "output_type": "stream",
     "text": [
      "\n",
      "\n",
      "        Crypto-currency data comes from the website CoinMarketCap.\n",
      "        CoinMarketCap is can be accessed at: https://coinmarketcap.com/\n",
      "\n",
      "        The permission to use the data is available on their FAQ\n",
      "\n",
      "            https://coinmarketcap.com/faq/\n",
      "\n",
      "        and reads:\n",
      "\n",
      "            \"Q: Am I allowed to use content (screenshots, data, graphs, etc.) \n",
      "            for one of my personal projects and/or commercial use?\n",
      "\n",
      "            R: Absolutely! Feel free to use any content as you see fit. \n",
      "            We kindly ask that you cite us as a source.\"\n",
      "        \n",
      "        \n"
     ]
    }
   ],
   "source": [
    "print(CoinMarketCap())"
   ]
  },
  {
   "cell_type": "markdown",
   "metadata": {},
   "source": [
    "Our model is designed to work with daily data. Let's go ahead and collect historic daily data from CoinMarketCap (this is the same data used previously)."
   ]
  },
  {
   "cell_type": "code",
   "execution_count": 43,
   "metadata": {},
   "outputs": [],
   "source": [
    "historic_data = CoinMarketCap.historic()"
   ]
  },
  {
   "cell_type": "code",
   "execution_count": 44,
   "metadata": {},
   "outputs": [],
   "source": [
    "# need to reverse dataframe so that earliest is first\n",
    "historic_data = historic_data.iloc[::-1].reset_index(drop=True)"
   ]
  },
  {
   "cell_type": "code",
   "execution_count": 45,
   "metadata": {},
   "outputs": [
    {
     "data": {
      "text/html": [
       "<div>\n",
       "<style scoped>\n",
       "    .dataframe tbody tr th:only-of-type {\n",
       "        vertical-align: middle;\n",
       "    }\n",
       "\n",
       "    .dataframe tbody tr th {\n",
       "        vertical-align: top;\n",
       "    }\n",
       "\n",
       "    .dataframe thead th {\n",
       "        text-align: right;\n",
       "    }\n",
       "</style>\n",
       "<table border=\"1\" class=\"dataframe\">\n",
       "  <thead>\n",
       "    <tr style=\"text-align: right;\">\n",
       "      <th></th>\n",
       "      <th>date</th>\n",
       "      <th>open</th>\n",
       "      <th>high</th>\n",
       "      <th>low</th>\n",
       "      <th>close</th>\n",
       "      <th>volume</th>\n",
       "      <th>market_cap</th>\n",
       "    </tr>\n",
       "  </thead>\n",
       "  <tbody>\n",
       "    <tr>\n",
       "      <th>0</th>\n",
       "      <td>2013-04-28</td>\n",
       "      <td>135.30</td>\n",
       "      <td>135.98</td>\n",
       "      <td>132.10</td>\n",
       "      <td>134.21</td>\n",
       "      <td>None</td>\n",
       "      <td>1500520000</td>\n",
       "    </tr>\n",
       "    <tr>\n",
       "      <th>1</th>\n",
       "      <td>2013-04-29</td>\n",
       "      <td>134.44</td>\n",
       "      <td>147.49</td>\n",
       "      <td>134.00</td>\n",
       "      <td>144.54</td>\n",
       "      <td>None</td>\n",
       "      <td>1491160000</td>\n",
       "    </tr>\n",
       "    <tr>\n",
       "      <th>2</th>\n",
       "      <td>2013-04-30</td>\n",
       "      <td>144.00</td>\n",
       "      <td>146.93</td>\n",
       "      <td>134.05</td>\n",
       "      <td>139.00</td>\n",
       "      <td>None</td>\n",
       "      <td>1597780000</td>\n",
       "    </tr>\n",
       "  </tbody>\n",
       "</table>\n",
       "</div>"
      ],
      "text/plain": [
       "         date    open    high     low   close volume  market_cap\n",
       "0  2013-04-28  135.30  135.98  132.10  134.21   None  1500520000\n",
       "1  2013-04-29  134.44  147.49  134.00  144.54   None  1491160000\n",
       "2  2013-04-30  144.00  146.93  134.05  139.00   None  1597780000"
      ]
     },
     "execution_count": 45,
     "metadata": {},
     "output_type": "execute_result"
    }
   ],
   "source": [
    "historic_data.head(3)"
   ]
  },
  {
   "cell_type": "markdown",
   "metadata": {},
   "source": [
    "The data contains practically the same variables from our earlier dataset. However, much of the data comes from an earlier period. Recent Bitcoin prices have gained a lot of volatility if compared to the prices of a few years ago. Before using this data in our model, let's make sure to filter it to dates after January 1, 2017."
   ]
  },
  {
   "cell_type": "code",
   "execution_count": 46,
   "metadata": {},
   "outputs": [],
   "source": [
    "#\n",
    "#  Using the Pandas API, filter the dataframe\n",
    "#  for observations from 2017 only. \n",
    "# \n",
    "#  Hint: use the `date` column / variable.\n",
    "#\n",
    "model_data = "
   ]
  },
  {
   "cell_type": "markdown",
   "metadata": {},
   "source": [
    "### The `Model()` Class\n",
    "We have also created the class `Model()` which compiles all the code we have written so far. We will use that class to build, train, and evaluate our model."
   ]
  },
  {
   "cell_type": "code",
   "execution_count": 47,
   "metadata": {},
   "outputs": [],
   "source": [
    "M = Model(data=model_data,\n",
    "          variable='close',\n",
    "          predicted_period_size=7)"
   ]
  },
  {
   "cell_type": "code",
   "execution_count": 48,
   "metadata": {},
   "outputs": [
    {
     "data": {
      "text/plain": [
       "<keras.models.Sequential at 0x1e18cf83470>"
      ]
     },
     "execution_count": 48,
     "metadata": {},
     "output_type": "execute_result"
    }
   ],
   "source": [
    "M.build()"
   ]
  },
  {
   "cell_type": "code",
   "execution_count": 49,
   "metadata": {},
   "outputs": [
    {
     "name": "stdout",
     "output_type": "stream",
     "text": [
      "Epoch 1/100\n",
      "1/1 [==============================] - 2s 2s/step - loss: 0.0023\n",
      "Epoch 2/100\n",
      "1/1 [==============================] - 0s 43ms/step - loss: 0.0018\n",
      "Epoch 3/100\n",
      "1/1 [==============================] - 0s 38ms/step - loss: 0.0015\n",
      "Epoch 4/100\n",
      "1/1 [==============================] - 0s 30ms/step - loss: 0.0013\n",
      "Epoch 5/100\n",
      "1/1 [==============================] - 0s 45ms/step - loss: 0.0011\n",
      "Epoch 6/100\n",
      "1/1 [==============================] - 0s 41ms/step - loss: 9.3113e-04\n",
      "Epoch 7/100\n",
      "1/1 [==============================] - 0s 46ms/step - loss: 8.0604e-04\n",
      "Epoch 8/100\n",
      "1/1 [==============================] - 0s 41ms/step - loss: 6.9997e-04\n",
      "Epoch 9/100\n",
      "1/1 [==============================] - 0s 42ms/step - loss: 6.0955e-04\n",
      "Epoch 10/100\n",
      "1/1 [==============================] - 0s 40ms/step - loss: 5.3154e-04\n",
      "Epoch 11/100\n",
      "1/1 [==============================] - 0s 34ms/step - loss: 4.6425e-04\n",
      "Epoch 12/100\n",
      "1/1 [==============================] - 0s 59ms/step - loss: 4.0612e-04\n",
      "Epoch 13/100\n",
      "1/1 [==============================] - 0s 58ms/step - loss: 3.5571e-04\n",
      "Epoch 14/100\n",
      "1/1 [==============================] - 0s 43ms/step - loss: 3.1207e-04\n",
      "Epoch 15/100\n",
      "1/1 [==============================] - 0s 30ms/step - loss: 2.7411e-04\n",
      "Epoch 16/100\n",
      "1/1 [==============================] - 0s 30ms/step - loss: 2.4100e-04\n",
      "Epoch 17/100\n",
      "1/1 [==============================] - 0s 37ms/step - loss: 2.1204e-04\n",
      "Epoch 18/100\n",
      "1/1 [==============================] - 0s 39ms/step - loss: 1.8664e-04\n",
      "Epoch 19/100\n",
      "1/1 [==============================] - 0s 29ms/step - loss: 1.6427e-04\n",
      "Epoch 20/100\n",
      "1/1 [==============================] - 0s 35ms/step - loss: 1.4451e-04\n",
      "Epoch 21/100\n",
      "1/1 [==============================] - 0s 42ms/step - loss: 1.2707e-04\n",
      "Epoch 22/100\n",
      "1/1 [==============================] - 0s 35ms/step - loss: 1.1153e-04\n",
      "Epoch 23/100\n",
      "1/1 [==============================] - 0s 36ms/step - loss: 9.7474e-05\n",
      "Epoch 24/100\n",
      "1/1 [==============================] - 0s 35ms/step - loss: 8.4859e-05\n",
      "Epoch 25/100\n",
      "1/1 [==============================] - 0s 33ms/step - loss: 7.3600e-05\n",
      "Epoch 26/100\n",
      "1/1 [==============================] - 0s 36ms/step - loss: 6.3538e-05\n",
      "Epoch 27/100\n",
      "1/1 [==============================] - 0s 32ms/step - loss: 5.4563e-05\n",
      "Epoch 28/100\n",
      "1/1 [==============================] - 0s 34ms/step - loss: 4.6555e-05\n",
      "Epoch 29/100\n",
      "1/1 [==============================] - 0s 40ms/step - loss: 3.9463e-05\n",
      "Epoch 30/100\n",
      "1/1 [==============================] - 0s 34ms/step - loss: 3.3200e-05\n",
      "Epoch 31/100\n",
      "1/1 [==============================] - 0s 71ms/step - loss: 2.7703e-05\n",
      "Epoch 32/100\n",
      "1/1 [==============================] - 0s 41ms/step - loss: 2.2908e-05\n",
      "Epoch 33/100\n",
      "1/1 [==============================] - 0s 60ms/step - loss: 1.8772e-05\n",
      "Epoch 34/100\n",
      "1/1 [==============================] - 0s 34ms/step - loss: 1.5246e-05\n",
      "Epoch 35/100\n",
      "1/1 [==============================] - 0s 32ms/step - loss: 1.2266e-05\n",
      "Epoch 36/100\n",
      "1/1 [==============================] - 0s 34ms/step - loss: 9.7619e-06\n",
      "Epoch 37/100\n",
      "1/1 [==============================] - 0s 32ms/step - loss: 7.6436e-06\n",
      "Epoch 38/100\n",
      "1/1 [==============================] - 0s 41ms/step - loss: 5.8897e-06\n",
      "Epoch 39/100\n",
      "1/1 [==============================] - 0s 34ms/step - loss: 4.4601e-06\n",
      "Epoch 40/100\n",
      "1/1 [==============================] - 0s 39ms/step - loss: 3.3271e-06\n",
      "Epoch 41/100\n",
      "1/1 [==============================] - 0s 28ms/step - loss: 2.4426e-06\n",
      "Epoch 42/100\n",
      "1/1 [==============================] - 0s 37ms/step - loss: 1.7666e-06\n",
      "Epoch 43/100\n",
      "1/1 [==============================] - 0s 44ms/step - loss: 1.2613e-06\n",
      "Epoch 44/100\n",
      "1/1 [==============================] - 0s 29ms/step - loss: 8.9423e-07\n",
      "Epoch 45/100\n",
      "1/1 [==============================] - 0s 42ms/step - loss: 6.3727e-07\n",
      "Epoch 46/100\n",
      "1/1 [==============================] - 0s 29ms/step - loss: 4.6920e-07\n",
      "Epoch 47/100\n",
      "1/1 [==============================] - 0s 43ms/step - loss: 3.6812e-07\n",
      "Epoch 48/100\n",
      "1/1 [==============================] - 0s 36ms/step - loss: 3.1915e-07\n",
      "Epoch 49/100\n",
      "1/1 [==============================] - 0s 35ms/step - loss: 3.0131e-07\n",
      "Epoch 50/100\n",
      "1/1 [==============================] - 0s 36ms/step - loss: 3.0400e-07\n",
      "Epoch 51/100\n",
      "1/1 [==============================] - 0s 35ms/step - loss: 3.1093e-07\n",
      "Epoch 52/100\n",
      "1/1 [==============================] - 0s 39ms/step - loss: 3.2677e-07\n",
      "Epoch 53/100\n",
      "1/1 [==============================] - 0s 28ms/step - loss: 3.4209e-07\n",
      "Epoch 54/100\n",
      "1/1 [==============================] - 0s 37ms/step - loss: 3.7337e-07\n",
      "Epoch 55/100\n",
      "1/1 [==============================] - 0s 28ms/step - loss: 4.0655e-07\n",
      "Epoch 56/100\n",
      "1/1 [==============================] - 0s 34ms/step - loss: 4.6081e-07\n",
      "Epoch 57/100\n",
      "1/1 [==============================] - 0s 30ms/step - loss: 5.1272e-07\n",
      "Epoch 58/100\n",
      "1/1 [==============================] - 0s 33ms/step - loss: 5.9120e-07\n",
      "Epoch 59/100\n",
      "1/1 [==============================] - 0s 30ms/step - loss: 6.5857e-07\n",
      "Epoch 60/100\n",
      "1/1 [==============================] - 0s 33ms/step - loss: 7.4163e-07\n",
      "Epoch 61/100\n",
      "1/1 [==============================] - 0s 33ms/step - loss: 7.8817e-07\n",
      "Epoch 62/100\n",
      "1/1 [==============================] - 0s 34ms/step - loss: 8.3821e-07\n",
      "Epoch 63/100\n",
      "1/1 [==============================] - 0s 37ms/step - loss: 8.3860e-07\n",
      "Epoch 64/100\n",
      "1/1 [==============================] - 0s 34ms/step - loss: 8.5014e-07\n",
      "Epoch 65/100\n",
      "1/1 [==============================] - 0s 35ms/step - loss: 8.2423e-07\n",
      "Epoch 66/100\n",
      "1/1 [==============================] - 0s 31ms/step - loss: 8.3693e-07\n",
      "Epoch 67/100\n",
      "1/1 [==============================] - 0s 35ms/step - loss: 8.3854e-07\n",
      "Epoch 68/100\n",
      "1/1 [==============================] - 0s 39ms/step - loss: 9.0315e-07\n",
      "Epoch 69/100\n",
      "1/1 [==============================] - 0s 38ms/step - loss: 9.9230e-07\n",
      "Epoch 70/100\n",
      "1/1 [==============================] - 0s 29ms/step - loss: 1.1852e-06\n",
      "Epoch 71/100\n",
      "1/1 [==============================] - 0s 32ms/step - loss: 1.4434e-06\n",
      "Epoch 72/100\n",
      "1/1 [==============================] - 0s 32ms/step - loss: 1.7624e-06\n",
      "Epoch 73/100\n",
      "1/1 [==============================] - 0s 33ms/step - loss: 1.8626e-06\n",
      "Epoch 74/100\n",
      "1/1 [==============================] - 0s 30ms/step - loss: 1.7778e-06\n",
      "Epoch 75/100\n",
      "1/1 [==============================] - 0s 37ms/step - loss: 1.5653e-06\n",
      "Epoch 76/100\n",
      "1/1 [==============================] - 0s 31ms/step - loss: 1.4145e-06\n",
      "Epoch 77/100\n",
      "1/1 [==============================] - 0s 34ms/step - loss: 1.3440e-06\n",
      "Epoch 78/100\n",
      "1/1 [==============================] - 0s 34ms/step - loss: 1.3356e-06\n",
      "Epoch 79/100\n",
      "1/1 [==============================] - 0s 35ms/step - loss: 1.3456e-06\n",
      "Epoch 80/100\n",
      "1/1 [==============================] - 0s 32ms/step - loss: 1.3241e-06\n",
      "Epoch 81/100\n",
      "1/1 [==============================] - 0s 32ms/step - loss: 1.4263e-06\n",
      "Epoch 82/100\n",
      "1/1 [==============================] - 0s 31ms/step - loss: 1.6420e-06\n",
      "Epoch 83/100\n",
      "1/1 [==============================] - 0s 32ms/step - loss: 2.0078e-06\n",
      "Epoch 84/100\n",
      "1/1 [==============================] - 0s 27ms/step - loss: 2.0184e-06\n",
      "Epoch 85/100\n",
      "1/1 [==============================] - 0s 33ms/step - loss: 1.8967e-06\n",
      "Epoch 86/100\n",
      "1/1 [==============================] - 0s 29ms/step - loss: 1.5866e-06\n",
      "Epoch 87/100\n",
      "1/1 [==============================] - 0s 36ms/step - loss: 1.4903e-06\n",
      "Epoch 88/100\n",
      "1/1 [==============================] - 0s 35ms/step - loss: 1.5806e-06\n",
      "Epoch 89/100\n",
      "1/1 [==============================] - 0s 34ms/step - loss: 2.1029e-06\n",
      "Epoch 90/100\n",
      "1/1 [==============================] - 0s 30ms/step - loss: 2.6573e-06\n",
      "Epoch 91/100\n",
      "1/1 [==============================] - 0s 27ms/step - loss: 2.8244e-06\n",
      "Epoch 92/100\n",
      "1/1 [==============================] - 0s 39ms/step - loss: 2.2953e-06\n",
      "Epoch 93/100\n",
      "1/1 [==============================] - 0s 39ms/step - loss: 1.7358e-06\n",
      "Epoch 94/100\n",
      "1/1 [==============================] - 0s 34ms/step - loss: 1.2522e-06\n",
      "Epoch 95/100\n",
      "1/1 [==============================] - 0s 33ms/step - loss: 9.7128e-07\n",
      "Epoch 96/100\n",
      "1/1 [==============================] - 0s 33ms/step - loss: 8.0570e-07\n",
      "Epoch 97/100\n",
      "1/1 [==============================] - 0s 32ms/step - loss: 7.5253e-07\n",
      "Epoch 98/100\n",
      "1/1 [==============================] - 0s 32ms/step - loss: 7.6434e-07\n"
     ]
    },
    {
     "name": "stdout",
     "output_type": "stream",
     "text": [
      "Epoch 99/100\n",
      "1/1 [==============================] - 0s 31ms/step - loss: 8.6013e-07\n",
      "Epoch 100/100\n",
      "1/1 [==============================] - 0s 32ms/step - loss: 1.0237e-06\n"
     ]
    },
    {
     "data": {
      "text/plain": [
       "<keras.callbacks.History at 0x1e1973319b0>"
      ]
     },
     "execution_count": 49,
     "metadata": {},
     "output_type": "execute_result"
    }
   ],
   "source": [
    "M.train(epochs=100, verbose=1)"
   ]
  },
  {
   "cell_type": "markdown",
   "metadata": {},
   "source": [
    "We can now use the model for making predictions with the `predict()` method. The parameter `denormalized` will return values in the original scale of the data. In our case, US dollars."
   ]
  },
  {
   "cell_type": "code",
   "execution_count": 50,
   "metadata": {},
   "outputs": [
    {
     "data": {
      "text/plain": [
       "array([ 6173.45800781,  6402.47314453,  6434.75439453,  6444.95361328,\n",
       "        6400.10400391,  5788.77832031,  5860.75634766], dtype=float32)"
      ]
     },
     "execution_count": 50,
     "metadata": {},
     "output_type": "execute_result"
    }
   ],
   "source": [
    "M.predict(denormalized=True)"
   ]
  },
  {
   "cell_type": "markdown",
   "metadata": {},
   "source": [
    "We now evaluate our model to inspect the statistics for the last epoch of training compared to a single test week."
   ]
  },
  {
   "cell_type": "code",
   "execution_count": 51,
   "metadata": {},
   "outputs": [
    {
     "data": {
      "text/plain": [
       "{'mape': 3.8799999999999999, 'mse': 0.0, 'rmse': 264.97000000000003}"
      ]
     },
     "execution_count": 51,
     "metadata": {},
     "output_type": "execute_result"
    }
   ],
   "source": [
    "M.evaluate()"
   ]
  },
  {
   "cell_type": "markdown",
   "metadata": {},
   "source": [
    "Finally, we can now save the trained model on disk for later use."
   ]
  },
  {
   "cell_type": "code",
   "execution_count": 52,
   "metadata": {},
   "outputs": [],
   "source": [
    "M.save('/bitcoin_model_prod_v0.h5')"
   ]
  },
  {
   "cell_type": "markdown",
   "metadata": {},
   "source": [
    "Our `Model()` class can also load a previously trained model when instantiated with the `path` parameter."
   ]
  },
  {
   "cell_type": "code",
   "execution_count": 53,
   "metadata": {},
   "outputs": [],
   "source": [
    "M = Model(path='/bitcoin_model_prod_v0.h5',\n",
    "          data=model_data,\n",
    "          variable='close',\n",
    "          predicted_period_size=7)"
   ]
  },
  {
   "cell_type": "code",
   "execution_count": 54,
   "metadata": {},
   "outputs": [
    {
     "data": {
      "text/plain": [
       "array([ 6173.45800781,  6402.47314453,  6434.75439453,  6444.95361328,\n",
       "        6400.10400391,  5788.77832031,  5860.75634766], dtype=float32)"
      ]
     },
     "execution_count": 54,
     "metadata": {},
     "output_type": "execute_result"
    }
   ],
   "source": [
    "M.predict(denormalized=True)"
   ]
  },
  {
   "cell_type": "markdown",
   "metadata": {},
   "source": [
    "### New Data, Re-train Old Model\n",
    "One strategy discussed earlier regards the re-training of our model with new data. In our case, our biggest concern is to shape data in a way that the model has been configured. As an example, we will configure our model to predict a week using 40 weeks. We will first train the model with the first 40 weeks of 2017, then continue to re-train it over the following weeks until we reach week 50."
   ]
  },
  {
   "cell_type": "code",
   "execution_count": 55,
   "metadata": {},
   "outputs": [
    {
     "name": "stdout",
     "output_type": "stream",
     "text": [
      "Number of full weeks: 77\n"
     ]
    }
   ],
   "source": [
    "print('Number of full weeks: {}'.format(len(model_data) // 7))"
   ]
  },
  {
   "cell_type": "markdown",
   "metadata": {},
   "source": [
    "First, let's build a model with the first set of data. Notice how we use `7*40 + 7` as the indexer. This is because we use 40 weeks for training and 1 week for testing. "
   ]
  },
  {
   "cell_type": "code",
   "execution_count": 71,
   "metadata": {},
   "outputs": [
    {
     "name": "stdout",
     "output_type": "stream",
     "text": [
      "[540, 77.14285714285714]\n",
      "[288, 41.142857142857146]\n"
     ]
    }
   ],
   "source": [
    "#######################################\n",
    "# size of original model_data dataframe\n",
    "print([len(model_data), len(model_data)/7])\n",
    "# size of sliced dataframe\n",
    "print([len(model_data[0:(7*40 + 7 + 1)]), len(model_data[0:(7*40 + 7 + 1)])/7])"
   ]
  },
  {
   "cell_type": "code",
   "execution_count": 56,
   "metadata": {},
   "outputs": [],
   "source": [
    "M = Model(data=model_data[0:(7*40 + 7 + 1)],\n",
    "          variable='close',\n",
    "          predicted_period_size=7)"
   ]
  },
  {
   "cell_type": "code",
   "execution_count": 57,
   "metadata": {},
   "outputs": [
    {
     "data": {
      "text/plain": [
       "<keras.models.Sequential at 0x1e1888a44a8>"
      ]
     },
     "execution_count": 57,
     "metadata": {},
     "output_type": "execute_result"
    }
   ],
   "source": [
    "M.build()"
   ]
  },
  {
   "cell_type": "code",
   "execution_count": 58,
   "metadata": {},
   "outputs": [
    {
     "data": {
      "text/plain": [
       "<keras.callbacks.History at 0x1e196133e48>"
      ]
     },
     "execution_count": 58,
     "metadata": {},
     "output_type": "execute_result"
    }
   ],
   "source": [
    "M.train()"
   ]
  },
  {
   "cell_type": "code",
   "execution_count": null,
   "metadata": {},
   "outputs": [],
   "source": [
    "#\n",
    "#  Complete the range function and\n",
    "#  the model_data filtering parameters\n",
    "#  using an index to split the data in overlapping\n",
    "#  groups of 7 days. Then, re-train our model\n",
    "#  and collect the results.\n",
    "#\n",
    "#  The variables A, B, C, and D are placeholders.\n",
    "#\n",
    "results = []\n",
    "for i in range(A, B):\n",
    "    M.train(model_data[C:D])\n",
    "    results.append(M.evaluate())"
   ]
  },
  {
   "cell_type": "code",
   "execution_count": 60,
   "metadata": {},
   "outputs": [
    {
     "data": {
      "text/plain": [
       "array([ 5671.36230469,  5897.67041016,  5905.40917969,  5935.04833984,\n",
       "        6729.01220703,  6977.45166016,  7209.47753906], dtype=float32)"
      ]
     },
     "execution_count": 60,
     "metadata": {},
     "output_type": "execute_result"
    }
   ],
   "source": [
    "M.predict(denormalized=True)"
   ]
  },
  {
   "cell_type": "markdown",
   "metadata": {},
   "source": [
    "### New Data, New Model\n",
    "Another strategy is to create and train a new model evey time new data is available. This approach tends to reduce catastrophic forgetting, but training time increases as data increases. \n",
    "\n",
    "It's implementation is quite simple.\n",
    "\n",
    "Let's assume we have old data for 49 weeks of 2017 and after a week we now have new data. We represent this wtih the variables `old_data` and `new_data`. "
   ]
  },
  {
   "cell_type": "code",
   "execution_count": 61,
   "metadata": {},
   "outputs": [],
   "source": [
    "old_data = model_data[0*7:7*48 + 7 + 1]"
   ]
  },
  {
   "cell_type": "code",
   "execution_count": 62,
   "metadata": {},
   "outputs": [],
   "source": [
    "new_data = model_data[0*7:7*49 + 7 + 1]"
   ]
  },
  {
   "cell_type": "code",
   "execution_count": 63,
   "metadata": {},
   "outputs": [],
   "source": [
    "M = Model(data=old_data,\n",
    "          variable='close',\n",
    "          predicted_period_size=7)"
   ]
  },
  {
   "cell_type": "code",
   "execution_count": 64,
   "metadata": {},
   "outputs": [
    {
     "data": {
      "text/plain": [
       "<keras.callbacks.History at 0x1e1994951d0>"
      ]
     },
     "execution_count": 64,
     "metadata": {},
     "output_type": "execute_result"
    }
   ],
   "source": [
    "M.build()\n",
    "M.train()"
   ]
  },
  {
   "cell_type": "code",
   "execution_count": 65,
   "metadata": {},
   "outputs": [
    {
     "data": {
      "text/plain": [
       "array([ 15498.28125   ,  15999.93164062,  16182.19238281,  19424.1953125 ,\n",
       "        24333.51757812,  22497.48242188,  20619.40234375], dtype=float32)"
      ]
     },
     "execution_count": 65,
     "metadata": {},
     "output_type": "execute_result"
    }
   ],
   "source": [
    "M.predict(denormalized=True)"
   ]
  },
  {
   "cell_type": "markdown",
   "metadata": {},
   "source": [
    "Now, assume that new data is available. Using this technicle we go ahead and create a new model using only the new data. "
   ]
  },
  {
   "cell_type": "code",
   "execution_count": 66,
   "metadata": {},
   "outputs": [],
   "source": [
    "#\n",
    "#  Re-instantiate the model with the Model()\n",
    "#  class using the new_data variable instead\n",
    "#  of the old_data one. \n",
    "#"
   ]
  },
  {
   "cell_type": "code",
   "execution_count": 67,
   "metadata": {},
   "outputs": [
    {
     "data": {
      "text/plain": [
       "<keras.callbacks.History at 0x1e19b12d9e8>"
      ]
     },
     "execution_count": 67,
     "metadata": {},
     "output_type": "execute_result"
    }
   ],
   "source": [
    "M.build()\n",
    "M.train()"
   ]
  },
  {
   "cell_type": "code",
   "execution_count": 68,
   "metadata": {},
   "outputs": [
    {
     "data": {
      "text/plain": [
       "array([ 15530.66503906,  15826.07324219,  16193.54296875,  19562.61328125,\n",
       "        24507.19335938,  22695.15625   ,  20839.10546875], dtype=float32)"
      ]
     },
     "execution_count": 68,
     "metadata": {},
     "output_type": "execute_result"
    }
   ],
   "source": [
    "M.predict(denormalized=True)"
   ]
  },
  {
   "cell_type": "markdown",
   "metadata": {},
   "source": [
    "This approach is very simple to implement and tends to work well. We will be using this to deploy our application."
   ]
  }
 ],
 "metadata": {
  "kernelspec": {
   "display_name": "Python 3",
   "language": "python",
   "name": "python3"
  },
  "language_info": {
   "codemirror_mode": {
    "name": "ipython",
    "version": 3
   },
   "file_extension": ".py",
   "mimetype": "text/x-python",
   "name": "python",
   "nbconvert_exporter": "python",
   "pygments_lexer": "ipython3",
   "version": "3.6.6rc1"
  }
 },
 "nbformat": 4,
 "nbformat_minor": 2
}
